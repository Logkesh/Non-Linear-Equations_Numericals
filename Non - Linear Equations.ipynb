{
 "cells": [
  {
   "cell_type": "markdown",
   "id": "b128660a",
   "metadata": {},
   "source": [
    " <h2>Finding the roots of Quadratic equation."
   ]
  },
  {
   "cell_type": "code",
   "execution_count": 1,
   "id": "4ca0f23c",
   "metadata": {},
   "outputs": [
    {
     "name": "stdout",
     "output_type": "stream",
     "text": [
      "Enter the quadratic equation in the format of\n",
      "ax2+bx+c :x2-18x+81\n",
      "Roots of the equation: { 9.0 , 9.0 }\n"
     ]
    }
   ],
   "source": [
    "try: \n",
    "    eq = input(\"Enter the quadratic equation in the format of\\nax2+bx+c :\")\n",
    "    if(eq.split('x2')[0]==''):a=1\n",
    "    else:a = float(eq.split('x2')[0])\n",
    "\n",
    "    if 'x' not in eq.split('x2')[1]:b=0\n",
    "    elif((eq.split('x2')[1]).split('x')[0]=='+'):b=1\n",
    "    elif((eq.split('x2')[1]).split('x')[0]=='-'):b=-1\n",
    "    else:b=float((eq.split('x2')[1]).split('x')[0])\n",
    "\n",
    "    if 'x' not in eq.split('x2')[1]:c=float((eq.split('x2')[1]).split('x')[0])\n",
    "    elif((eq.split('x2')[1]).split('x')[1]==''):c=0\n",
    "    else:c=float((eq.split('x2')[1]).split('x')[1])\n",
    "\n",
    "    if(a!=0):\n",
    "        x1 = (-b + (b**(2) - 4*a*c)**(0.5))/2*a\n",
    "        x2 = (-b - (b**(2) - 4*a*c)**(0.5))/2*a\n",
    "    print(\"Roots of the equation: {\",x1,\",\",x2,\"}\")\n",
    "except:print('Invalid Equation...')"
   ]
  },
  {
   "cell_type": "markdown",
   "id": "355b0ee9",
   "metadata": {},
   "source": [
    "## Creating a Quadratic equation by the two roots"
   ]
  },
  {
   "cell_type": "code",
   "execution_count": 3,
   "id": "4dd465ae",
   "metadata": {},
   "outputs": [
    {
     "name": "stdout",
     "output_type": "stream",
     "text": [
      "Enter the 2 roots to create the quadratic equation:\n",
      "Root 1:12\n",
      "Root 2:-4\n",
      "The Quadratic equation for the given roots is :\n",
      "x2-8x-48\n"
     ]
    }
   ],
   "source": [
    "a = int(input(\"Enter the 2 roots to create the quadratic equation:\\nRoot 1:\"))\n",
    "b = int(input(\"Root 2:\"))\n",
    "sor = a+b\n",
    "por = a*b\n",
    "print(\"The Quadratic equation for the given roots is :\")\n",
    "if(sor<=0 and por>=0):\n",
    "      print(\"x2+\"+str(-sor)+\"x+\"+str(por))\n",
    "elif(sor>0 and por>=0):\n",
    "      print(\"x2\"+str(-sor)+\"x+\"+str(por))\n",
    "elif(sor<=0 and por<0):\n",
    "      print(\"x2+\"+str(-sor)+\"x\"+str(por))\n",
    "elif(sor>0 and por<0):\n",
    "      print(\"x2\"+str(-sor)+\"x\"+str(por))\n",
    "      "
   ]
  },
  {
   "cell_type": "markdown",
   "id": "ffb5679b",
   "metadata": {},
   "source": [
    "## Fnding the roots of non-linear equations using Bisection Method"
   ]
  },
  {
   "cell_type": "code",
   "execution_count": 4,
   "id": "78e146ae",
   "metadata": {},
   "outputs": [
    {
     "name": "stdout",
     "output_type": "stream",
     "text": [
      "2 Intreval : ( 1.5 , 2 )\n",
      "3 Intreval : ( 1.75 , 2 )\n",
      "4 Intreval : ( 1.875 , 2 )\n",
      "5 Intreval : ( 1.875 , 1.9375 )\n",
      "6 Intreval : ( 1.875 , 1.90625 )\n",
      "7 Intreval : ( 1.890625 , 1.90625 )\n",
      "8 Intreval : ( 1.890625 , 1.8984375 )\n",
      "9 Intreval : ( 1.890625 , 1.89453125 )\n",
      "10 Intreval : ( 1.892578125 , 1.89453125 )\n",
      "11 Intreval : ( 1.8935546875 , 1.89453125 )\n",
      "12 Intreval : ( 1.89404296875 , 1.89453125 )\n",
      "13 Intreval : ( 1.89404296875 , 1.894287109375 )\n",
      "Apporoximate Root:  1.89404296875\n"
     ]
    }
   ],
   "source": [
    "#bisection method\n",
    "import math as m\n",
    "t=0.0001      \n",
    "def q(x):\n",
    "    return x * m.log(x) - 1.21  # Change the equation accordingly\n",
    "def a(a,b):\n",
    "    return((a+b)/2)\n",
    "def b(x,y,i=2):\n",
    "    \n",
    "    v=q(a(x,y))\n",
    "    if v==0:\n",
    "        print(\"Apporoximate Root: \",a(x,y))\n",
    "        return a(x,y)\n",
    "    if (v>0 and v<t)or(v>-t and v<0) or a(x,y)==x:\n",
    "        print(\"Apporoximate Root: \",x)\n",
    "        return x\n",
    "    if(v*q(x)<0):\n",
    "        print(i,\"Intreval : (\",x,\",\",a(x,y),\")\")\n",
    "        i+=1\n",
    "        b(x,a(x,y),i)\n",
    "    elif(v*q(y)<0):\n",
    "        print(i,\"Intreval : (\",a(x,y),\",\",y,\")\")\n",
    "        i+=1\n",
    "        b(a(x,y),y,i)\n",
    "b(1,2)"
   ]
  },
  {
   "cell_type": "markdown",
   "id": "4a32460b",
   "metadata": {},
   "source": [
    "<h2> Fnding the roots of non-linear equations using False-Position Method"
   ]
  },
  {
   "cell_type": "code",
   "execution_count": 5,
   "id": "2d5f1dcd",
   "metadata": {},
   "outputs": [
    {
     "name": "stdout",
     "output_type": "stream",
     "text": [
      "1 Intreval : ( 1.8728304997378231 , 2 )\n",
      "2 Intreval : ( 1.8938407019220669 , 2 )\n",
      "3 Intreval : ( 1.894188988860976 , 2 )\n",
      "Apporoximate Root:  1.8941947217003405\n"
     ]
    }
   ],
   "source": [
    "# False-Position Method\n",
    "import math as m\n",
    "t=0.000001      \n",
    "def q(x):\n",
    "    return x * m.log(x) - 1.21  # Change the equation accordingly\n",
    "def a(a,b):\n",
    "    return (a*q(b)-b*q(a))/(q(b)-q(a))\n",
    "def b(x,y,i=1):\n",
    "    v=q(a(x,y))\n",
    "    if v==0:\n",
    "        print(\"Apporoximate Root: \",a(x,y))\n",
    "        return a(x,y)\n",
    "    if (v>0 and v<t)or(v>-t and v<0) or a(x,y)==x:\n",
    "        print(\"Apporoximate Root: \",a(x,y))\n",
    "        return x\n",
    "    if(v*q(x)<0):\n",
    "        print(i,\"Intreval : (\",x,\",\",a(x,y),\")\")\n",
    "        i+=1\n",
    "        b(x,a(x,y),i)\n",
    "    elif(v*q(y)<0):\n",
    "        print(i,\"Intreval : (\",a(x,y),\",\",y,\")\")\n",
    "        i+=1\n",
    "        b(a(x,y),y,i)\n",
    "b(1,2)"
   ]
  },
  {
   "cell_type": "markdown",
   "id": "fa93c6d8",
   "metadata": {},
   "source": [
    "## Fnding the roots of non-linear equations using Newton Method"
   ]
  },
  {
   "cell_type": "code",
   "execution_count": 6,
   "id": "a5a12c74",
   "metadata": {},
   "outputs": [
    {
     "name": "stdout",
     "output_type": "stream",
     "text": [
      "x 1  =  1.8237056388801094\n",
      "x 2  =  1.9378947262936146\n",
      "x 3  =  1.8657793290721019\n",
      "x 4  =  1.9121322477114242\n",
      "x 5  =  1.8826518335258093\n",
      "x 6  =  1.901533162482776\n",
      "x 7  =  1.8894929315654827\n",
      "x 8  =  1.8971925130441119\n",
      "x 9  =  1.8922775374570222\n",
      "x 10  =  1.8954185937641568\n",
      "x 11  =  1.8934126817286083\n",
      "x 12  =  1.8946942797368105\n",
      "x 13  =  1.8938756984666396\n",
      "x 14  =  1.8943986421082029\n",
      "x 15  =  1.8940646048431415\n",
      "x 16  =  1.8942779922838346\n",
      "x 17  =  1.8941416843487073\n",
      "x 18  =  1.8942287581002264\n",
      "x 19  =  1.8941731363644123\n",
      "x 20  =  1.89420866736716\n",
      "x 21  =  1.894185970454576\n",
      "Apporoximate Root:  1.8942004691327174\n"
     ]
    }
   ],
   "source": [
    "# Newton Method\n",
    "import math as m\n",
    "t=0.00001      \n",
    "def q(x):\n",
    "    return x * m.log(x) - 1.21   # Change the equation accordingly\n",
    "def qd(x):\n",
    "    return 1\n",
    "def a(x):\n",
    "    return x - (q(x)/qd(x))\n",
    "def b(x,i=1):\n",
    "    v=q(a(x))\n",
    "    if v==0:\n",
    "        print(\"Apporoximate Root: \",a(x))\n",
    "        return a(x)\n",
    "    if(q(a(x)) > -t and q(a(x)) < t):\n",
    "        print(\"Apporoximate Root: \",a(x))\n",
    "        return a(x)\n",
    "    else:\n",
    "        print(\"x\",i,\" = \",a(x))\n",
    "        i+=1\n",
    "        b(a(x),i)\n",
    "b(2)"
   ]
  },
  {
   "cell_type": "markdown",
   "id": "08d9ba15",
   "metadata": {},
   "source": [
    "## Fnding the roots of non-linear equations using Secant Method"
   ]
  },
  {
   "cell_type": "code",
   "execution_count": 7,
   "id": "2b05223f",
   "metadata": {},
   "outputs": [
    {
     "name": "stdout",
     "output_type": "stream",
     "text": [
      "x 1  =  1.904741458061626\n",
      "x 2  =  1.8952751899583384\n",
      "Apporoximate Root:  1.8941966457759003\n"
     ]
    }
   ],
   "source": [
    "# Secant Method\n",
    "import math as m\n",
    "t=0.00001      \n",
    "def q(x):\n",
    "    return x * m.log(x) - 1.21  # Change the equation accordingly\n",
    "def qd(x,y):\n",
    "    return ((q(x)-q(y))/(x-y))\n",
    "def a(x,y):\n",
    "    return y - (q(y)/qd(x,y))\n",
    "def b(x,y,i=1):\n",
    "    v=q(a(x,y))\n",
    "    if((v > -t and v < t) or v==0):\n",
    "        print(\"Apporoximate Root: \",a(x,y))\n",
    "        return a(x,y)\n",
    "    else:\n",
    "        print(\"x\",i,\" = \",a(x,y))\n",
    "        i+=1\n",
    "        b(y,a(x,y),i)\n",
    "b(2,2.7)"
   ]
  },
  {
   "cell_type": "markdown",
   "id": "439c0551",
   "metadata": {},
   "source": [
    "## Fnding the roots of non-linear equations using Fixed Point Iteration Method"
   ]
  },
  {
   "cell_type": "code",
   "execution_count": 8,
   "id": "a40d14e7",
   "metadata": {},
   "outputs": [
    {
     "name": "stdout",
     "output_type": "stream",
     "text": [
      "x 1  =  1.8312522088857732\n",
      "x 2  =  1.936244081832083\n",
      "x 3  =  1.8680987694636575\n",
      "x 4  =  1.9111733222619527\n",
      "x 5  =  1.8834758484622944\n",
      "x 6  =  1.9010935293211357\n",
      "x 7  =  1.8898090398985403\n",
      "x 8  =  1.8970050098253894\n",
      "x 9  =  1.8924031912626953\n",
      "x 10  =  1.8953407275438172\n",
      "x 11  =  1.8934634012383016\n",
      "x 12  =  1.8946622800788766\n",
      "x 13  =  1.8938963026947568\n",
      "x 14  =  1.8943855467949928\n",
      "x 15  =  1.89407299719866\n",
      "x 16  =  1.8942726423781693\n",
      "x 17  =  1.8941451063564125\n",
      "x 18  =  1.89422657398757\n",
      "x 19  =  1.8941745323149257\n",
      "x 20  =  1.8942077759497382\n",
      "x 21  =  1.8941865400118896\n",
      "x 22  =  1.8942001053541573\n",
      "x 23  =  1.8941914398788982\n",
      "Approximate Root:  1.8941914398788982\n"
     ]
    }
   ],
   "source": [
    "# Fixed Point Method\n",
    "import math as m\n",
    "t=0.00001\n",
    "def q(x):\n",
    "    x = m.e**(1.21 / x)              # Change the equation accordingly, here: \"x * m.log(x) - 1.21 = 0\"\n",
    "    return x \n",
    "def qd(x):\n",
    "    if(((1.21*(x**(-2))*q(x)) < 1)):\n",
    "        return True      # Change the equation accordingly\n",
    "    else: \n",
    "        return False\n",
    "def b(x,i=1):\n",
    "    if(qd(x)):\n",
    "        v = q(x)\n",
    "        print(\"x\",i,\" = \",v)\n",
    "        i+=1\n",
    "        if(x-v < t and x-v > -t):\n",
    "            print(\"Approximate Root: \",v)\n",
    "            return\n",
    "        return b(v,i)\n",
    "    else: print(\"Invalid Differentiation...\")\n",
    "b(2)"
   ]
  }
 ],
 "metadata": {
  "kernelspec": {
   "display_name": "Python 3",
   "language": "python",
   "name": "python3"
  },
  "language_info": {
   "codemirror_mode": {
    "name": "ipython",
    "version": 3
   },
   "file_extension": ".py",
   "mimetype": "text/x-python",
   "name": "python",
   "nbconvert_exporter": "python",
   "pygments_lexer": "ipython3",
   "version": "3.8.8"
  }
 },
 "nbformat": 4,
 "nbformat_minor": 5
}
